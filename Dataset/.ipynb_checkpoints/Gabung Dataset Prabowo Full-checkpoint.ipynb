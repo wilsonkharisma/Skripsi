{
 "cells": [
  {
   "cell_type": "code",
   "execution_count": 1,
   "id": "e29db257",
   "metadata": {},
   "outputs": [],
   "source": [
    "import pandas as pd"
   ]
  },
  {
   "cell_type": "code",
   "execution_count": 2,
   "id": "4adac8e8",
   "metadata": {},
   "outputs": [],
   "source": [
    "df1 = pd.read_csv('prabowo5.csv')\n",
    "df2 = pd.read_csv('prabowo6.csv')\n",
    "df3 = pd.read_csv('prabowo7.csv')"
   ]
  },
  {
   "cell_type": "code",
   "execution_count": 3,
   "id": "e13e62ea",
   "metadata": {},
   "outputs": [
    {
     "name": "stdout",
     "output_type": "stream",
     "text": [
      "prabowo bulan 5 :  (740, 7)\n",
      "prabowo bulan 6 :  (2480, 7)\n",
      "prabowo bulan 7 :  (2027, 7)\n"
     ]
    }
   ],
   "source": [
    "print('prabowo bulan 5 : ',df1.shape)\n",
    "print('prabowo bulan 6 : ',df2.shape)\n",
    "print('prabowo bulan 7 : ',df3.shape)"
   ]
  },
  {
   "cell_type": "code",
   "execution_count": 4,
   "id": "92d981fe",
   "metadata": {
    "scrolled": true
   },
   "outputs": [
    {
     "data": {
      "text/plain": [
       "(5247, 7)"
      ]
     },
     "execution_count": 4,
     "metadata": {},
     "output_type": "execute_result"
    }
   ],
   "source": [
    "df_concat = pd.concat([df1, df2, df3])\n",
    "df_concat.shape\n",
    "# df_concat"
   ]
  },
  {
   "cell_type": "code",
   "execution_count": 5,
   "id": "240432c8",
   "metadata": {},
   "outputs": [
    {
     "data": {
      "text/plain": [
       "(3970, 7)"
      ]
     },
     "execution_count": 5,
     "metadata": {},
     "output_type": "execute_result"
    }
   ],
   "source": [
    "df_concat.drop_duplicates(subset=['text'], keep='first', inplace=True)\n",
    "df_concat.shape\n",
    "# df_concat"
   ]
  },
  {
   "cell_type": "code",
   "execution_count": 6,
   "id": "95018b4f",
   "metadata": {},
   "outputs": [
    {
     "data": {
      "text/html": [
       "<div>\n",
       "<style scoped>\n",
       "    .dataframe tbody tr th:only-of-type {\n",
       "        vertical-align: middle;\n",
       "    }\n",
       "\n",
       "    .dataframe tbody tr th {\n",
       "        vertical-align: top;\n",
       "    }\n",
       "\n",
       "    .dataframe thead th {\n",
       "        text-align: right;\n",
       "    }\n",
       "</style>\n",
       "<table border=\"1\" class=\"dataframe\">\n",
       "  <thead>\n",
       "    <tr style=\"text-align: right;\">\n",
       "      <th></th>\n",
       "      <th>id</th>\n",
       "      <th>date</th>\n",
       "      <th>text</th>\n",
       "      <th>place</th>\n",
       "      <th>screen_name</th>\n",
       "    </tr>\n",
       "  </thead>\n",
       "  <tbody>\n",
       "    <tr>\n",
       "      <th>0</th>\n",
       "      <td>1661196377966387201</td>\n",
       "      <td>2023-05-24 02:24:14</td>\n",
       "      <td>RT @BANGSAygSUJUD: \"Kali ini sudah saatnya @pr...</td>\n",
       "      <td>NaN</td>\n",
       "      <td>florieliciouss</td>\n",
       "    </tr>\n",
       "    <tr>\n",
       "      <th>1</th>\n",
       "      <td>1661195956300435458</td>\n",
       "      <td>2023-05-24 02:22:34</td>\n",
       "      <td>4 Respons Kornas, PDIP, hingga Gerindra Usai P...</td>\n",
       "      <td>INDONESIA</td>\n",
       "      <td>liputan6dotcom</td>\n",
       "    </tr>\n",
       "    <tr>\n",
       "      <th>2</th>\n",
       "      <td>1661195925774274560</td>\n",
       "      <td>2023-05-24 02:22:26</td>\n",
       "      <td>RT @Paltiwest: Prabowo Subianto: 24,5%\\nGanjar...</td>\n",
       "      <td>NaN</td>\n",
       "      <td>BiBoDah1</td>\n",
       "    </tr>\n",
       "    <tr>\n",
       "      <th>3</th>\n",
       "      <td>1661195905796812800</td>\n",
       "      <td>2023-05-24 02:22:22</td>\n",
       "      <td>RT @mingtongue_: Partai besutan Prabowo Subian...</td>\n",
       "      <td>West java</td>\n",
       "      <td>7uventusia</td>\n",
       "    </tr>\n",
       "    <tr>\n",
       "      <th>4</th>\n",
       "      <td>1661195584211128320</td>\n",
       "      <td>2023-05-24 02:21:05</td>\n",
       "      <td>4 Respons Kornas, PDIP, hingga Gerindra Usai P...</td>\n",
       "      <td>Alam Bawah Sadar</td>\n",
       "      <td>RSeptianEGeo</td>\n",
       "    </tr>\n",
       "    <tr>\n",
       "      <th>...</th>\n",
       "      <td>...</td>\n",
       "      <td>...</td>\n",
       "      <td>...</td>\n",
       "      <td>...</td>\n",
       "      <td>...</td>\n",
       "    </tr>\n",
       "    <tr>\n",
       "      <th>2021</th>\n",
       "      <td>1686002004840398848</td>\n",
       "      <td>2023-07-31 13:12:57</td>\n",
       "      <td>Atau bisa kita simpulkan juga Menhan RI Prabow...</td>\n",
       "      <td>NaN</td>\n",
       "      <td>Juliangrif75550</td>\n",
       "    </tr>\n",
       "    <tr>\n",
       "      <th>2022</th>\n",
       "      <td>1686001814720892928</td>\n",
       "      <td>2023-07-31 13:12:11</td>\n",
       "      <td>Atau bisa kita simpulkan juga Menhan RI Prabow...</td>\n",
       "      <td>NaN</td>\n",
       "      <td>katherinec16023</td>\n",
       "    </tr>\n",
       "    <tr>\n",
       "      <th>2023</th>\n",
       "      <td>1686001742666932224</td>\n",
       "      <td>2023-07-31 13:11:54</td>\n",
       "      <td>Dan mungkin sudah saatnya kita bangsa Indonesi...</td>\n",
       "      <td>NaN</td>\n",
       "      <td>melissa_ad85116</td>\n",
       "    </tr>\n",
       "    <tr>\n",
       "      <th>2024</th>\n",
       "      <td>1686001738770444289</td>\n",
       "      <td>2023-07-31 13:11:53</td>\n",
       "      <td>Peneliti Badan Riset dan Inovasi Nasional (BRI...</td>\n",
       "      <td>NaN</td>\n",
       "      <td>Xavierjame41958</td>\n",
       "    </tr>\n",
       "    <tr>\n",
       "      <th>2025</th>\n",
       "      <td>1686001682327744512</td>\n",
       "      <td>2023-07-31 13:11:40</td>\n",
       "      <td>Peneliti Badan Riset dan Inovasi Nasional (BRI...</td>\n",
       "      <td>NaN</td>\n",
       "      <td>Daltonrodn91717</td>\n",
       "    </tr>\n",
       "  </tbody>\n",
       "</table>\n",
       "<p>3970 rows × 5 columns</p>\n",
       "</div>"
      ],
      "text/plain": [
       "                       id                 date  \\\n",
       "0     1661196377966387201  2023-05-24 02:24:14   \n",
       "1     1661195956300435458  2023-05-24 02:22:34   \n",
       "2     1661195925774274560  2023-05-24 02:22:26   \n",
       "3     1661195905796812800  2023-05-24 02:22:22   \n",
       "4     1661195584211128320  2023-05-24 02:21:05   \n",
       "...                   ...                  ...   \n",
       "2021  1686002004840398848  2023-07-31 13:12:57   \n",
       "2022  1686001814720892928  2023-07-31 13:12:11   \n",
       "2023  1686001742666932224  2023-07-31 13:11:54   \n",
       "2024  1686001738770444289  2023-07-31 13:11:53   \n",
       "2025  1686001682327744512  2023-07-31 13:11:40   \n",
       "\n",
       "                                                   text             place  \\\n",
       "0     RT @BANGSAygSUJUD: \"Kali ini sudah saatnya @pr...               NaN   \n",
       "1     4 Respons Kornas, PDIP, hingga Gerindra Usai P...         INDONESIA   \n",
       "2     RT @Paltiwest: Prabowo Subianto: 24,5%\\nGanjar...               NaN   \n",
       "3     RT @mingtongue_: Partai besutan Prabowo Subian...         West java   \n",
       "4     4 Respons Kornas, PDIP, hingga Gerindra Usai P...  Alam Bawah Sadar   \n",
       "...                                                 ...               ...   \n",
       "2021  Atau bisa kita simpulkan juga Menhan RI Prabow...               NaN   \n",
       "2022  Atau bisa kita simpulkan juga Menhan RI Prabow...               NaN   \n",
       "2023  Dan mungkin sudah saatnya kita bangsa Indonesi...               NaN   \n",
       "2024  Peneliti Badan Riset dan Inovasi Nasional (BRI...               NaN   \n",
       "2025  Peneliti Badan Riset dan Inovasi Nasional (BRI...               NaN   \n",
       "\n",
       "          screen_name  \n",
       "0      florieliciouss  \n",
       "1      liputan6dotcom  \n",
       "2            BiBoDah1  \n",
       "3          7uventusia  \n",
       "4        RSeptianEGeo  \n",
       "...               ...  \n",
       "2021  Juliangrif75550  \n",
       "2022  katherinec16023  \n",
       "2023  melissa_ad85116  \n",
       "2024  Xavierjame41958  \n",
       "2025  Daltonrodn91717  \n",
       "\n",
       "[3970 rows x 5 columns]"
      ]
     },
     "execution_count": 6,
     "metadata": {},
     "output_type": "execute_result"
    }
   ],
   "source": [
    "df_concat = pd.DataFrame(df_concat[['id', 'date', 'text', 'place', 'screen_name']])\n",
    "df_concat.to_csv('prabowo.csv')\n",
    "df_concat"
   ]
  },
  {
   "cell_type": "code",
   "execution_count": null,
   "id": "b862556c",
   "metadata": {},
   "outputs": [],
   "source": []
  }
 ],
 "metadata": {
  "kernelspec": {
   "display_name": "Python 3 (ipykernel)",
   "language": "python",
   "name": "python3"
  },
  "language_info": {
   "codemirror_mode": {
    "name": "ipython",
    "version": 3
   },
   "file_extension": ".py",
   "mimetype": "text/x-python",
   "name": "python",
   "nbconvert_exporter": "python",
   "pygments_lexer": "ipython3",
   "version": "3.11.3"
  },
  "varInspector": {
   "cols": {
    "lenName": 16,
    "lenType": 16,
    "lenVar": 40
   },
   "kernels_config": {
    "python": {
     "delete_cmd_postfix": "",
     "delete_cmd_prefix": "del ",
     "library": "var_list.py",
     "varRefreshCmd": "print(var_dic_list())"
    },
    "r": {
     "delete_cmd_postfix": ") ",
     "delete_cmd_prefix": "rm(",
     "library": "var_list.r",
     "varRefreshCmd": "cat(var_dic_list()) "
    }
   },
   "types_to_exclude": [
    "module",
    "function",
    "builtin_function_or_method",
    "instance",
    "_Feature"
   ],
   "window_display": false
  }
 },
 "nbformat": 4,
 "nbformat_minor": 5
}
