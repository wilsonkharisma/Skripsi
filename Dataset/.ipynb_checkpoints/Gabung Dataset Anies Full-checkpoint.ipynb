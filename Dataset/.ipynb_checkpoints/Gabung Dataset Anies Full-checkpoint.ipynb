{
 "cells": [
  {
   "cell_type": "code",
   "execution_count": 1,
   "id": "e29db257",
   "metadata": {},
   "outputs": [],
   "source": [
    "import pandas as pd"
   ]
  },
  {
   "cell_type": "code",
   "execution_count": 2,
   "id": "4adac8e8",
   "metadata": {},
   "outputs": [],
   "source": [
    "df1 = pd.read_csv('anies5.csv')\n",
    "df2 = pd.read_csv('anies6.csv')\n",
    "df3 = pd.read_csv('anies7.csv')"
   ]
  },
  {
   "cell_type": "code",
   "execution_count": 3,
   "id": "e13e62ea",
   "metadata": {},
   "outputs": [
    {
     "name": "stdout",
     "output_type": "stream",
     "text": [
      "anies 5 :  (800, 7)\n",
      "anies 6 :  (2619, 7)\n",
      "anies 7 :  (2395, 7)\n"
     ]
    }
   ],
   "source": [
    "print('anies 5 : ',df1.shape)\n",
    "print('anies 6 : ',df2.shape)\n",
    "print('anies 7 : ',df3.shape)"
   ]
  },
  {
   "cell_type": "code",
   "execution_count": 4,
   "id": "92d981fe",
   "metadata": {
    "scrolled": true
   },
   "outputs": [
    {
     "data": {
      "text/plain": [
       "(5814, 7)"
      ]
     },
     "execution_count": 4,
     "metadata": {},
     "output_type": "execute_result"
    }
   ],
   "source": [
    "df_concat = pd.concat([df1, df2, df3])\n",
    "df_concat.shape\n",
    "# df_concat"
   ]
  },
  {
   "cell_type": "code",
   "execution_count": 5,
   "id": "240432c8",
   "metadata": {},
   "outputs": [
    {
     "data": {
      "text/plain": [
       "(2565, 7)"
      ]
     },
     "execution_count": 5,
     "metadata": {},
     "output_type": "execute_result"
    }
   ],
   "source": [
    "df_concat.drop_duplicates(subset=['text'], keep='first', inplace=True)\n",
    "df_concat.shape\n",
    "# df_concat"
   ]
  },
  {
   "cell_type": "code",
   "execution_count": 6,
   "id": "95018b4f",
   "metadata": {},
   "outputs": [
    {
     "data": {
      "text/html": [
       "<div>\n",
       "<style scoped>\n",
       "    .dataframe tbody tr th:only-of-type {\n",
       "        vertical-align: middle;\n",
       "    }\n",
       "\n",
       "    .dataframe tbody tr th {\n",
       "        vertical-align: top;\n",
       "    }\n",
       "\n",
       "    .dataframe thead th {\n",
       "        text-align: right;\n",
       "    }\n",
       "</style>\n",
       "<table border=\"1\" class=\"dataframe\">\n",
       "  <thead>\n",
       "    <tr style=\"text-align: right;\">\n",
       "      <th></th>\n",
       "      <th>id</th>\n",
       "      <th>date</th>\n",
       "      <th>text</th>\n",
       "      <th>place</th>\n",
       "      <th>screen_name</th>\n",
       "    </tr>\n",
       "  </thead>\n",
       "  <tbody>\n",
       "    <tr>\n",
       "      <th>0</th>\n",
       "      <td>1661196530127351808</td>\n",
       "      <td>2023-05-24 02:24:50</td>\n",
       "      <td>RT @eddy_widodo_165: Alhamdulilah 🤲\\nBacapres ...</td>\n",
       "      <td>INDONESIA</td>\n",
       "      <td>jijindut</td>\n",
       "    </tr>\n",
       "    <tr>\n",
       "      <th>1</th>\n",
       "      <td>1661196491896266752</td>\n",
       "      <td>2023-05-24 02:24:41</td>\n",
       "      <td>RT @renandabachtar: Din Syamsuddin Lebih Senan...</td>\n",
       "      <td>NaN</td>\n",
       "      <td>georgiussoetjip</td>\n",
       "    </tr>\n",
       "    <tr>\n",
       "      <th>2</th>\n",
       "      <td>1661196455691046912</td>\n",
       "      <td>2023-05-24 02:24:33</td>\n",
       "      <td>RT @PutraErlangga95: Ingin menyelamatkan Indon...</td>\n",
       "      <td>NaN</td>\n",
       "      <td>003whitesky1</td>\n",
       "    </tr>\n",
       "    <tr>\n",
       "      <th>3</th>\n",
       "      <td>1661196446203523073</td>\n",
       "      <td>2023-05-24 02:24:30</td>\n",
       "      <td>RT @idtodayco: Kurang Bukti, Relawan Ganjar Pr...</td>\n",
       "      <td>NaN</td>\n",
       "      <td>et_fath</td>\n",
       "    </tr>\n",
       "    <tr>\n",
       "      <th>4</th>\n",
       "      <td>1661196388963856390</td>\n",
       "      <td>2023-05-24 02:24:17</td>\n",
       "      <td>RT @Yurissa_Samosir: Sambutan hangat dari Masy...</td>\n",
       "      <td>NaN</td>\n",
       "      <td>et_fath</td>\n",
       "    </tr>\n",
       "    <tr>\n",
       "      <th>...</th>\n",
       "      <td>...</td>\n",
       "      <td>...</td>\n",
       "      <td>...</td>\n",
       "      <td>...</td>\n",
       "      <td>...</td>\n",
       "    </tr>\n",
       "    <tr>\n",
       "      <th>2383</th>\n",
       "      <td>1686005950476677120</td>\n",
       "      <td>2023-07-31 13:28:37</td>\n",
       "      <td>RT @rahmaniarbaftim: Untuk bisa menjadi Pemimp...</td>\n",
       "      <td>NaN</td>\n",
       "      <td>Joewija45450015</td>\n",
       "    </tr>\n",
       "    <tr>\n",
       "      <th>2386</th>\n",
       "      <td>1686005857828679681</td>\n",
       "      <td>2023-07-31 13:28:15</td>\n",
       "      <td>RT @YepryR: Terimakasih masyarakat brebes jawa...</td>\n",
       "      <td>NaN</td>\n",
       "      <td>Ayong32516903</td>\n",
       "    </tr>\n",
       "    <tr>\n",
       "      <th>2391</th>\n",
       "      <td>1686005757882593280</td>\n",
       "      <td>2023-07-31 13:27:51</td>\n",
       "      <td>Anies Baswedan tegaskan tidak akan lanjutkan P...</td>\n",
       "      <td>NaN</td>\n",
       "      <td>bhozsadolf</td>\n",
       "    </tr>\n",
       "    <tr>\n",
       "      <th>2393</th>\n",
       "      <td>1686005743378731008</td>\n",
       "      <td>2023-07-31 13:27:48</td>\n",
       "      <td>RT @MissKoral: Petani Brebes Jateng Deklarasi ...</td>\n",
       "      <td>DKI Jakarta, Indonesia</td>\n",
       "      <td>aly_benzema</td>\n",
       "    </tr>\n",
       "    <tr>\n",
       "      <th>2394</th>\n",
       "      <td>1686005736676171776</td>\n",
       "      <td>2023-07-31 13:27:46</td>\n",
       "      <td>RT @OposisiCerdas: Partai Masyumi Dukung Anies...</td>\n",
       "      <td>NaN</td>\n",
       "      <td>muawanah05</td>\n",
       "    </tr>\n",
       "  </tbody>\n",
       "</table>\n",
       "<p>2565 rows × 5 columns</p>\n",
       "</div>"
      ],
      "text/plain": [
       "                       id                 date  \\\n",
       "0     1661196530127351808  2023-05-24 02:24:50   \n",
       "1     1661196491896266752  2023-05-24 02:24:41   \n",
       "2     1661196455691046912  2023-05-24 02:24:33   \n",
       "3     1661196446203523073  2023-05-24 02:24:30   \n",
       "4     1661196388963856390  2023-05-24 02:24:17   \n",
       "...                   ...                  ...   \n",
       "2383  1686005950476677120  2023-07-31 13:28:37   \n",
       "2386  1686005857828679681  2023-07-31 13:28:15   \n",
       "2391  1686005757882593280  2023-07-31 13:27:51   \n",
       "2393  1686005743378731008  2023-07-31 13:27:48   \n",
       "2394  1686005736676171776  2023-07-31 13:27:46   \n",
       "\n",
       "                                                   text  \\\n",
       "0     RT @eddy_widodo_165: Alhamdulilah 🤲\\nBacapres ...   \n",
       "1     RT @renandabachtar: Din Syamsuddin Lebih Senan...   \n",
       "2     RT @PutraErlangga95: Ingin menyelamatkan Indon...   \n",
       "3     RT @idtodayco: Kurang Bukti, Relawan Ganjar Pr...   \n",
       "4     RT @Yurissa_Samosir: Sambutan hangat dari Masy...   \n",
       "...                                                 ...   \n",
       "2383  RT @rahmaniarbaftim: Untuk bisa menjadi Pemimp...   \n",
       "2386  RT @YepryR: Terimakasih masyarakat brebes jawa...   \n",
       "2391  Anies Baswedan tegaskan tidak akan lanjutkan P...   \n",
       "2393  RT @MissKoral: Petani Brebes Jateng Deklarasi ...   \n",
       "2394  RT @OposisiCerdas: Partai Masyumi Dukung Anies...   \n",
       "\n",
       "                       place      screen_name  \n",
       "0                  INDONESIA         jijindut  \n",
       "1                        NaN  georgiussoetjip  \n",
       "2                        NaN     003whitesky1  \n",
       "3                        NaN          et_fath  \n",
       "4                        NaN          et_fath  \n",
       "...                      ...              ...  \n",
       "2383                     NaN  Joewija45450015  \n",
       "2386                     NaN    Ayong32516903  \n",
       "2391                     NaN       bhozsadolf  \n",
       "2393  DKI Jakarta, Indonesia      aly_benzema  \n",
       "2394                     NaN       muawanah05  \n",
       "\n",
       "[2565 rows x 5 columns]"
      ]
     },
     "execution_count": 6,
     "metadata": {},
     "output_type": "execute_result"
    }
   ],
   "source": [
    "df_concat = pd.DataFrame(df_concat[['id', 'date', 'text', 'place', 'screen_name']])\n",
    "df_concat.to_csv('anies.csv')\n",
    "df_concat"
   ]
  },
  {
   "cell_type": "code",
   "execution_count": null,
   "id": "b862556c",
   "metadata": {},
   "outputs": [],
   "source": []
  }
 ],
 "metadata": {
  "kernelspec": {
   "display_name": "Python 3 (ipykernel)",
   "language": "python",
   "name": "python3"
  },
  "language_info": {
   "codemirror_mode": {
    "name": "ipython",
    "version": 3
   },
   "file_extension": ".py",
   "mimetype": "text/x-python",
   "name": "python",
   "nbconvert_exporter": "python",
   "pygments_lexer": "ipython3",
   "version": "3.11.3"
  },
  "varInspector": {
   "cols": {
    "lenName": 16,
    "lenType": 16,
    "lenVar": 40
   },
   "kernels_config": {
    "python": {
     "delete_cmd_postfix": "",
     "delete_cmd_prefix": "del ",
     "library": "var_list.py",
     "varRefreshCmd": "print(var_dic_list())"
    },
    "r": {
     "delete_cmd_postfix": ") ",
     "delete_cmd_prefix": "rm(",
     "library": "var_list.r",
     "varRefreshCmd": "cat(var_dic_list()) "
    }
   },
   "types_to_exclude": [
    "module",
    "function",
    "builtin_function_or_method",
    "instance",
    "_Feature"
   ],
   "window_display": false
  }
 },
 "nbformat": 4,
 "nbformat_minor": 5
}
