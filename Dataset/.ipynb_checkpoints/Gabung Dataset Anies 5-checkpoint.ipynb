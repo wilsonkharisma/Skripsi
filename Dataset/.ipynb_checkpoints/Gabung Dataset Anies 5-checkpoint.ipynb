{
 "cells": [
  {
   "cell_type": "code",
   "execution_count": 1,
   "id": "e29db257",
   "metadata": {},
   "outputs": [],
   "source": [
    "import pandas as pd"
   ]
  },
  {
   "cell_type": "code",
   "execution_count": 2,
   "id": "4adac8e8",
   "metadata": {},
   "outputs": [],
   "source": [
    "df24 = pd.read_csv('anies[05-24-2023].csv')\n",
    "df25 = pd.read_csv('anies[05-25-2023].csv')\n",
    "df26 = pd.read_csv('anies[05-26-2023].csv')\n",
    "df27 = pd.read_csv('anies[05-27-2023].csv')\n",
    "df28 = pd.read_csv('anies[05-28-2023].csv')\n",
    "df29 = pd.read_csv('anies[05-29-2023].csv')\n",
    "df30 = pd.read_csv('anies[05-30-2023].csv')\n",
    "df31 = pd.read_csv('anies[05-31-2023].csv')"
   ]
  },
  {
   "cell_type": "code",
   "execution_count": 3,
   "id": "e13e62ea",
   "metadata": {},
   "outputs": [
    {
     "name": "stdout",
     "output_type": "stream",
     "text": [
      "anies[05-24-2023] :  (100, 6)\n",
      "anies[05-25-2023] :  (100, 6)\n",
      "anies[05-26-2023] :  (100, 6)\n",
      "anies[05-27-2023] :  (100, 6)\n",
      "anies[05-28-2023] :  (100, 6)\n",
      "anies[05-29-2023] :  (100, 6)\n",
      "anies[05-30-2023] :  (100, 6)\n",
      "anies[05-31-2023] :  (100, 6)\n"
     ]
    }
   ],
   "source": [
    "print('anies[05-24-2023] : ',df24.shape)\n",
    "print('anies[05-25-2023] : ',df25.shape)\n",
    "print('anies[05-26-2023] : ',df26.shape)\n",
    "print('anies[05-27-2023] : ',df27.shape)\n",
    "print('anies[05-28-2023] : ',df28.shape)\n",
    "print('anies[05-29-2023] : ',df29.shape)\n",
    "print('anies[05-30-2023] : ',df30.shape)\n",
    "print('anies[05-31-2023] : ',df31.shape)"
   ]
  },
  {
   "cell_type": "code",
   "execution_count": 4,
   "id": "92d981fe",
   "metadata": {
    "scrolled": true
   },
   "outputs": [
    {
     "data": {
      "text/plain": [
       "(800, 6)"
      ]
     },
     "execution_count": 4,
     "metadata": {},
     "output_type": "execute_result"
    }
   ],
   "source": [
    "df_concat = pd.concat([df24, df25, df26, df27, df28, df29, df30, df31])\n",
    "df_concat.shape\n",
    "# df_concat"
   ]
  },
  {
   "cell_type": "code",
   "execution_count": 5,
   "id": "95018b4f",
   "metadata": {},
   "outputs": [
    {
     "data": {
      "text/html": [
       "<div>\n",
       "<style scoped>\n",
       "    .dataframe tbody tr th:only-of-type {\n",
       "        vertical-align: middle;\n",
       "    }\n",
       "\n",
       "    .dataframe tbody tr th {\n",
       "        vertical-align: top;\n",
       "    }\n",
       "\n",
       "    .dataframe thead th {\n",
       "        text-align: right;\n",
       "    }\n",
       "</style>\n",
       "<table border=\"1\" class=\"dataframe\">\n",
       "  <thead>\n",
       "    <tr style=\"text-align: right;\">\n",
       "      <th></th>\n",
       "      <th>Unnamed: 0</th>\n",
       "      <th>id</th>\n",
       "      <th>date</th>\n",
       "      <th>text</th>\n",
       "      <th>place</th>\n",
       "      <th>screen_name</th>\n",
       "    </tr>\n",
       "  </thead>\n",
       "  <tbody>\n",
       "    <tr>\n",
       "      <th>0</th>\n",
       "      <td>0</td>\n",
       "      <td>1661196530127351808</td>\n",
       "      <td>2023-05-24 02:24:50</td>\n",
       "      <td>RT @eddy_widodo_165: Alhamdulilah 🤲\\nBacapres ...</td>\n",
       "      <td>INDONESIA</td>\n",
       "      <td>jijindut</td>\n",
       "    </tr>\n",
       "    <tr>\n",
       "      <th>1</th>\n",
       "      <td>1</td>\n",
       "      <td>1661196491896266752</td>\n",
       "      <td>2023-05-24 02:24:41</td>\n",
       "      <td>RT @renandabachtar: Din Syamsuddin Lebih Senan...</td>\n",
       "      <td>NaN</td>\n",
       "      <td>georgiussoetjip</td>\n",
       "    </tr>\n",
       "    <tr>\n",
       "      <th>2</th>\n",
       "      <td>2</td>\n",
       "      <td>1661196455691046912</td>\n",
       "      <td>2023-05-24 02:24:33</td>\n",
       "      <td>RT @PutraErlangga95: Ingin menyelamatkan Indon...</td>\n",
       "      <td>NaN</td>\n",
       "      <td>003whitesky1</td>\n",
       "    </tr>\n",
       "    <tr>\n",
       "      <th>3</th>\n",
       "      <td>3</td>\n",
       "      <td>1661196446203523073</td>\n",
       "      <td>2023-05-24 02:24:30</td>\n",
       "      <td>RT @idtodayco: Kurang Bukti, Relawan Ganjar Pr...</td>\n",
       "      <td>NaN</td>\n",
       "      <td>et_fath</td>\n",
       "    </tr>\n",
       "    <tr>\n",
       "      <th>4</th>\n",
       "      <td>4</td>\n",
       "      <td>1661196388963856390</td>\n",
       "      <td>2023-05-24 02:24:17</td>\n",
       "      <td>RT @Yurissa_Samosir: Sambutan hangat dari Masy...</td>\n",
       "      <td>NaN</td>\n",
       "      <td>et_fath</td>\n",
       "    </tr>\n",
       "    <tr>\n",
       "      <th>...</th>\n",
       "      <td>...</td>\n",
       "      <td>...</td>\n",
       "      <td>...</td>\n",
       "      <td>...</td>\n",
       "      <td>...</td>\n",
       "      <td>...</td>\n",
       "    </tr>\n",
       "    <tr>\n",
       "      <th>95</th>\n",
       "      <td>95</td>\n",
       "      <td>1663887522068561920</td>\n",
       "      <td>2023-05-31 12:37:53</td>\n",
       "      <td>@SantorinisSun Anies Baswedan akan gagal kalau...</td>\n",
       "      <td>Kota Bengkulu, Bengkulu</td>\n",
       "      <td>Syarman59</td>\n",
       "    </tr>\n",
       "    <tr>\n",
       "      <th>96</th>\n",
       "      <td>96</td>\n",
       "      <td>1663887501101252609</td>\n",
       "      <td>2023-05-31 12:37:48</td>\n",
       "      <td>RT @alisyarief: Siapa Yang Akan Dipilih Anies ...</td>\n",
       "      <td>Bogor, Jawa Barat</td>\n",
       "      <td>AbdulHlimSH</td>\n",
       "    </tr>\n",
       "    <tr>\n",
       "      <th>97</th>\n",
       "      <td>97</td>\n",
       "      <td>1663887490376404992</td>\n",
       "      <td>2023-05-31 12:37:45</td>\n",
       "      <td>RT @JarnasABWBpn: Baik Pak, rakyat pun akan Ca...</td>\n",
       "      <td>NaN</td>\n",
       "      <td>Mahmud35233344</td>\n",
       "    </tr>\n",
       "    <tr>\n",
       "      <th>98</th>\n",
       "      <td>98</td>\n",
       "      <td>1663887487155032066</td>\n",
       "      <td>2023-05-31 12:37:45</td>\n",
       "      <td>Bakal calon presiden RI dari fraksi partai Nas...</td>\n",
       "      <td>Cibitung, Indonesia</td>\n",
       "      <td>dania_naisa</td>\n",
       "    </tr>\n",
       "    <tr>\n",
       "      <th>99</th>\n",
       "      <td>99</td>\n",
       "      <td>1663887485079015425</td>\n",
       "      <td>2023-05-31 12:37:44</td>\n",
       "      <td>RT @Trending_Issue: Part 2 :\\nMacam-macam bent...</td>\n",
       "      <td>Gn.TgbnPrahu ... {bawah dikit}</td>\n",
       "      <td>dirgantra00</td>\n",
       "    </tr>\n",
       "  </tbody>\n",
       "</table>\n",
       "<p>800 rows × 6 columns</p>\n",
       "</div>"
      ],
      "text/plain": [
       "    Unnamed: 0                   id                 date  \\\n",
       "0            0  1661196530127351808  2023-05-24 02:24:50   \n",
       "1            1  1661196491896266752  2023-05-24 02:24:41   \n",
       "2            2  1661196455691046912  2023-05-24 02:24:33   \n",
       "3            3  1661196446203523073  2023-05-24 02:24:30   \n",
       "4            4  1661196388963856390  2023-05-24 02:24:17   \n",
       "..         ...                  ...                  ...   \n",
       "95          95  1663887522068561920  2023-05-31 12:37:53   \n",
       "96          96  1663887501101252609  2023-05-31 12:37:48   \n",
       "97          97  1663887490376404992  2023-05-31 12:37:45   \n",
       "98          98  1663887487155032066  2023-05-31 12:37:45   \n",
       "99          99  1663887485079015425  2023-05-31 12:37:44   \n",
       "\n",
       "                                                 text  \\\n",
       "0   RT @eddy_widodo_165: Alhamdulilah 🤲\\nBacapres ...   \n",
       "1   RT @renandabachtar: Din Syamsuddin Lebih Senan...   \n",
       "2   RT @PutraErlangga95: Ingin menyelamatkan Indon...   \n",
       "3   RT @idtodayco: Kurang Bukti, Relawan Ganjar Pr...   \n",
       "4   RT @Yurissa_Samosir: Sambutan hangat dari Masy...   \n",
       "..                                                ...   \n",
       "95  @SantorinisSun Anies Baswedan akan gagal kalau...   \n",
       "96  RT @alisyarief: Siapa Yang Akan Dipilih Anies ...   \n",
       "97  RT @JarnasABWBpn: Baik Pak, rakyat pun akan Ca...   \n",
       "98  Bakal calon presiden RI dari fraksi partai Nas...   \n",
       "99  RT @Trending_Issue: Part 2 :\\nMacam-macam bent...   \n",
       "\n",
       "                             place      screen_name  \n",
       "0                        INDONESIA         jijindut  \n",
       "1                              NaN  georgiussoetjip  \n",
       "2                              NaN     003whitesky1  \n",
       "3                              NaN          et_fath  \n",
       "4                              NaN          et_fath  \n",
       "..                             ...              ...  \n",
       "95         Kota Bengkulu, Bengkulu        Syarman59  \n",
       "96               Bogor, Jawa Barat      AbdulHlimSH  \n",
       "97                             NaN   Mahmud35233344  \n",
       "98             Cibitung, Indonesia      dania_naisa  \n",
       "99  Gn.TgbnPrahu ... {bawah dikit}      dirgantra00  \n",
       "\n",
       "[800 rows x 6 columns]"
      ]
     },
     "execution_count": 5,
     "metadata": {},
     "output_type": "execute_result"
    }
   ],
   "source": [
    "df_concat.to_csv('anies5.csv')\n",
    "df_concat"
   ]
  },
  {
   "cell_type": "code",
   "execution_count": null,
   "id": "b862556c",
   "metadata": {},
   "outputs": [],
   "source": []
  }
 ],
 "metadata": {
  "kernelspec": {
   "display_name": "Python 3 (ipykernel)",
   "language": "python",
   "name": "python3"
  },
  "language_info": {
   "codemirror_mode": {
    "name": "ipython",
    "version": 3
   },
   "file_extension": ".py",
   "mimetype": "text/x-python",
   "name": "python",
   "nbconvert_exporter": "python",
   "pygments_lexer": "ipython3",
   "version": "3.11.3"
  },
  "varInspector": {
   "cols": {
    "lenName": 16,
    "lenType": 16,
    "lenVar": 40
   },
   "kernels_config": {
    "python": {
     "delete_cmd_postfix": "",
     "delete_cmd_prefix": "del ",
     "library": "var_list.py",
     "varRefreshCmd": "print(var_dic_list())"
    },
    "r": {
     "delete_cmd_postfix": ") ",
     "delete_cmd_prefix": "rm(",
     "library": "var_list.r",
     "varRefreshCmd": "cat(var_dic_list()) "
    }
   },
   "types_to_exclude": [
    "module",
    "function",
    "builtin_function_or_method",
    "instance",
    "_Feature"
   ],
   "window_display": false
  }
 },
 "nbformat": 4,
 "nbformat_minor": 5
}
