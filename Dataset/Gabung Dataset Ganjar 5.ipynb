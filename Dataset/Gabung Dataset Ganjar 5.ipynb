{
 "cells": [
  {
   "cell_type": "code",
   "execution_count": 1,
   "id": "e29db257",
   "metadata": {},
   "outputs": [],
   "source": [
    "import pandas as pd"
   ]
  },
  {
   "cell_type": "code",
   "execution_count": 3,
   "id": "4adac8e8",
   "metadata": {},
   "outputs": [],
   "source": [
    "df24 = pd.read_csv('ganjar[05-24-2023].csv')\n",
    "df25 = pd.read_csv('ganjar[05-25-2023].csv')\n",
    "df26 = pd.read_csv('ganjar[05-26-2023].csv')\n",
    "df27 = pd.read_csv('ganjar[05-27-2023].csv')\n",
    "df28 = pd.read_csv('ganjar[05-28-2023].csv')\n",
    "df29 = pd.read_csv('ganjar[05-29-2023].csv')\n",
    "df30 = pd.read_csv('ganjar[05-30-2023].csv')\n",
    "df31 = pd.read_csv('ganjar[05-31-2023].csv')"
   ]
  },
  {
   "cell_type": "code",
   "execution_count": 4,
   "id": "e13e62ea",
   "metadata": {},
   "outputs": [
    {
     "name": "stdout",
     "output_type": "stream",
     "text": [
      "ganjar[05-24-2023] :  (100, 6)\n",
      "ganjar[05-25-2023] :  (100, 6)\n",
      "ganjar[05-26-2023] :  (100, 6)\n",
      "ganjar[05-27-2023] :  (100, 6)\n",
      "ganjar[05-28-2023] :  (100, 6)\n",
      "ganjar[05-29-2023] :  (100, 6)\n",
      "ganjar[05-30-2023] :  (98, 6)\n",
      "ganjar[05-31-2023] :  (100, 6)\n"
     ]
    }
   ],
   "source": [
    "print('ganjar[05-24-2023] : ',df24.shape)\n",
    "print('ganjar[05-25-2023] : ',df25.shape)\n",
    "print('ganjar[05-26-2023] : ',df26.shape)\n",
    "print('ganjar[05-27-2023] : ',df27.shape)\n",
    "print('ganjar[05-28-2023] : ',df28.shape)\n",
    "print('ganjar[05-29-2023] : ',df29.shape)\n",
    "print('ganjar[05-30-2023] : ',df30.shape)\n",
    "print('ganjar[05-31-2023] : ',df31.shape)"
   ]
  },
  {
   "cell_type": "code",
   "execution_count": 5,
   "id": "92d981fe",
   "metadata": {
    "scrolled": true
   },
   "outputs": [
    {
     "data": {
      "text/plain": [
       "(798, 6)"
      ]
     },
     "execution_count": 5,
     "metadata": {},
     "output_type": "execute_result"
    }
   ],
   "source": [
    "df_concat = pd.concat([df24, df25, df26, df27, df28, df29, df30, df31])\n",
    "df_concat.shape\n",
    "# df_concat"
   ]
  },
  {
   "cell_type": "code",
   "execution_count": 6,
   "id": "95018b4f",
   "metadata": {},
   "outputs": [
    {
     "data": {
      "text/html": [
       "<div>\n",
       "<style scoped>\n",
       "    .dataframe tbody tr th:only-of-type {\n",
       "        vertical-align: middle;\n",
       "    }\n",
       "\n",
       "    .dataframe tbody tr th {\n",
       "        vertical-align: top;\n",
       "    }\n",
       "\n",
       "    .dataframe thead th {\n",
       "        text-align: right;\n",
       "    }\n",
       "</style>\n",
       "<table border=\"1\" class=\"dataframe\">\n",
       "  <thead>\n",
       "    <tr style=\"text-align: right;\">\n",
       "      <th></th>\n",
       "      <th>Unnamed: 0</th>\n",
       "      <th>id</th>\n",
       "      <th>date</th>\n",
       "      <th>text</th>\n",
       "      <th>place</th>\n",
       "      <th>screen_name</th>\n",
       "    </tr>\n",
       "  </thead>\n",
       "  <tbody>\n",
       "    <tr>\n",
       "      <th>0</th>\n",
       "      <td>0</td>\n",
       "      <td>1661196268318920705</td>\n",
       "      <td>2023-05-24 02:23:48</td>\n",
       "      <td>Untuk memperkuat pondasi kemenangan untuk Ganj...</td>\n",
       "      <td>Indonesia</td>\n",
       "      <td>IDSahabatGanjar</td>\n",
       "    </tr>\n",
       "    <tr>\n",
       "      <th>1</th>\n",
       "      <td>1</td>\n",
       "      <td>1661196173997395969</td>\n",
       "      <td>2023-05-24 02:23:26</td>\n",
       "      <td>RT @LaingenLisa: \"Semoga Ganjar Pranowo bisa m...</td>\n",
       "      <td>DKI Jakarta, Indonesia</td>\n",
       "      <td>DiniHdianti</td>\n",
       "    </tr>\n",
       "    <tr>\n",
       "      <th>2</th>\n",
       "      <td>2</td>\n",
       "      <td>1661196167450099714</td>\n",
       "      <td>2023-05-24 02:23:24</td>\n",
       "      <td>RT @ShintaSusan2: Belajar Reformasi Birokrasi ...</td>\n",
       "      <td>Jakarta</td>\n",
       "      <td>ShintaSusan2</td>\n",
       "    </tr>\n",
       "    <tr>\n",
       "      <th>3</th>\n",
       "      <td>3</td>\n",
       "      <td>1661196146767962116</td>\n",
       "      <td>2023-05-24 02:23:19</td>\n",
       "      <td>Untuk memperkuat pondasi kemenangan untuk Ganj...</td>\n",
       "      <td>NaN</td>\n",
       "      <td>sahabatganjar</td>\n",
       "    </tr>\n",
       "    <tr>\n",
       "      <th>4</th>\n",
       "      <td>4</td>\n",
       "      <td>1661196142363938817</td>\n",
       "      <td>2023-05-24 02:23:18</td>\n",
       "      <td>Belajar Reformasi Birokrasi bersama Ganjar Pra...</td>\n",
       "      <td>Jakarta</td>\n",
       "      <td>ShintaSusan2</td>\n",
       "    </tr>\n",
       "    <tr>\n",
       "      <th>...</th>\n",
       "      <td>...</td>\n",
       "      <td>...</td>\n",
       "      <td>...</td>\n",
       "      <td>...</td>\n",
       "      <td>...</td>\n",
       "      <td>...</td>\n",
       "    </tr>\n",
       "    <tr>\n",
       "      <th>95</th>\n",
       "      <td>95</td>\n",
       "      <td>1663883513748414466</td>\n",
       "      <td>2023-05-31 12:21:57</td>\n",
       "      <td>RT @win_ardie: Ini nih yg gue demen... \\n\\nSeb...</td>\n",
       "      <td>Lubang Sewu WDLT</td>\n",
       "      <td>super_mijo</td>\n",
       "    </tr>\n",
       "    <tr>\n",
       "      <th>96</th>\n",
       "      <td>96</td>\n",
       "      <td>1663883455346917379</td>\n",
       "      <td>2023-05-31 12:21:43</td>\n",
       "      <td>RT @Penyair_Berdiri: Sekretaris Jenderal PDI P...</td>\n",
       "      <td>NaN</td>\n",
       "      <td>Nikmatul_Sg</td>\n",
       "    </tr>\n",
       "    <tr>\n",
       "      <th>97</th>\n",
       "      <td>97</td>\n",
       "      <td>1663883446564036614</td>\n",
       "      <td>2023-05-31 12:21:41</td>\n",
       "      <td>Ganjar Pranowo mengajak segenap Walubi untuk g...</td>\n",
       "      <td>NaN</td>\n",
       "      <td>Rk_Sumenep</td>\n",
       "    </tr>\n",
       "    <tr>\n",
       "      <th>98</th>\n",
       "      <td>98</td>\n",
       "      <td>1663883428272668672</td>\n",
       "      <td>2023-05-31 12:21:37</td>\n",
       "      <td>RT @LaingenLisa: Ganjar Pranowo mengatakan, ke...</td>\n",
       "      <td>HATI mu dekat JANTUNG</td>\n",
       "      <td>21aditya_bima</td>\n",
       "    </tr>\n",
       "    <tr>\n",
       "      <th>99</th>\n",
       "      <td>99</td>\n",
       "      <td>1663883363256791042</td>\n",
       "      <td>2023-05-31 12:21:21</td>\n",
       "      <td>RT @KakekHalal: Berperan Penting Tuntaskan Tar...</td>\n",
       "      <td>Lubang Sewu WDLT</td>\n",
       "      <td>super_mijo</td>\n",
       "    </tr>\n",
       "  </tbody>\n",
       "</table>\n",
       "<p>798 rows × 6 columns</p>\n",
       "</div>"
      ],
      "text/plain": [
       "    Unnamed: 0                   id                 date  \\\n",
       "0            0  1661196268318920705  2023-05-24 02:23:48   \n",
       "1            1  1661196173997395969  2023-05-24 02:23:26   \n",
       "2            2  1661196167450099714  2023-05-24 02:23:24   \n",
       "3            3  1661196146767962116  2023-05-24 02:23:19   \n",
       "4            4  1661196142363938817  2023-05-24 02:23:18   \n",
       "..         ...                  ...                  ...   \n",
       "95          95  1663883513748414466  2023-05-31 12:21:57   \n",
       "96          96  1663883455346917379  2023-05-31 12:21:43   \n",
       "97          97  1663883446564036614  2023-05-31 12:21:41   \n",
       "98          98  1663883428272668672  2023-05-31 12:21:37   \n",
       "99          99  1663883363256791042  2023-05-31 12:21:21   \n",
       "\n",
       "                                                 text                   place  \\\n",
       "0   Untuk memperkuat pondasi kemenangan untuk Ganj...               Indonesia   \n",
       "1   RT @LaingenLisa: \"Semoga Ganjar Pranowo bisa m...  DKI Jakarta, Indonesia   \n",
       "2   RT @ShintaSusan2: Belajar Reformasi Birokrasi ...                 Jakarta   \n",
       "3   Untuk memperkuat pondasi kemenangan untuk Ganj...                     NaN   \n",
       "4   Belajar Reformasi Birokrasi bersama Ganjar Pra...                 Jakarta   \n",
       "..                                                ...                     ...   \n",
       "95  RT @win_ardie: Ini nih yg gue demen... \\n\\nSeb...        Lubang Sewu WDLT   \n",
       "96  RT @Penyair_Berdiri: Sekretaris Jenderal PDI P...                     NaN   \n",
       "97  Ganjar Pranowo mengajak segenap Walubi untuk g...                     NaN   \n",
       "98  RT @LaingenLisa: Ganjar Pranowo mengatakan, ke...   HATI mu dekat JANTUNG   \n",
       "99  RT @KakekHalal: Berperan Penting Tuntaskan Tar...        Lubang Sewu WDLT   \n",
       "\n",
       "        screen_name  \n",
       "0   IDSahabatGanjar  \n",
       "1       DiniHdianti  \n",
       "2      ShintaSusan2  \n",
       "3     sahabatganjar  \n",
       "4      ShintaSusan2  \n",
       "..              ...  \n",
       "95       super_mijo  \n",
       "96      Nikmatul_Sg  \n",
       "97       Rk_Sumenep  \n",
       "98    21aditya_bima  \n",
       "99       super_mijo  \n",
       "\n",
       "[798 rows x 6 columns]"
      ]
     },
     "execution_count": 6,
     "metadata": {},
     "output_type": "execute_result"
    }
   ],
   "source": [
    "df_concat.to_csv('ganjar5.csv')\n",
    "df_concat"
   ]
  },
  {
   "cell_type": "code",
   "execution_count": null,
   "id": "b862556c",
   "metadata": {},
   "outputs": [],
   "source": []
  }
 ],
 "metadata": {
  "kernelspec": {
   "display_name": "Python 3 (ipykernel)",
   "language": "python",
   "name": "python3"
  },
  "language_info": {
   "codemirror_mode": {
    "name": "ipython",
    "version": 3
   },
   "file_extension": ".py",
   "mimetype": "text/x-python",
   "name": "python",
   "nbconvert_exporter": "python",
   "pygments_lexer": "ipython3",
   "version": "3.11.3"
  },
  "varInspector": {
   "cols": {
    "lenName": 16,
    "lenType": 16,
    "lenVar": 40
   },
   "kernels_config": {
    "python": {
     "delete_cmd_postfix": "",
     "delete_cmd_prefix": "del ",
     "library": "var_list.py",
     "varRefreshCmd": "print(var_dic_list())"
    },
    "r": {
     "delete_cmd_postfix": ") ",
     "delete_cmd_prefix": "rm(",
     "library": "var_list.r",
     "varRefreshCmd": "cat(var_dic_list()) "
    }
   },
   "types_to_exclude": [
    "module",
    "function",
    "builtin_function_or_method",
    "instance",
    "_Feature"
   ],
   "window_display": false
  }
 },
 "nbformat": 4,
 "nbformat_minor": 5
}
