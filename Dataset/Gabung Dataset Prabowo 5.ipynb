{
 "cells": [
  {
   "cell_type": "code",
   "execution_count": 1,
   "id": "e29db257",
   "metadata": {},
   "outputs": [],
   "source": [
    "import pandas as pd"
   ]
  },
  {
   "cell_type": "code",
   "execution_count": 5,
   "id": "4adac8e8",
   "metadata": {},
   "outputs": [],
   "source": [
    "df24 = pd.read_csv('prabowo[05-24-2023].csv')\n",
    "df25 = pd.read_csv('prabowo[05-25-2023].csv')\n",
    "df26 = pd.read_csv('prabowo[05-26-2023].csv')\n",
    "df27 = pd.read_csv('prabowo[05-27-2023].csv')\n",
    "df28 = pd.read_csv('prabowo[05-28-2023].csv')\n",
    "df29 = pd.read_csv('prabowo[05-29-2023].csv')\n",
    "df30 = pd.read_csv('prabowo[05-30-2023].csv')\n",
    "df31 = pd.read_csv('prabowo[05-31-2023].csv')"
   ]
  },
  {
   "cell_type": "code",
   "execution_count": 6,
   "id": "e13e62ea",
   "metadata": {},
   "outputs": [
    {
     "name": "stdout",
     "output_type": "stream",
     "text": [
      "prabowo[05-24-2023] :  (100, 6)\n",
      "prabowo[05-25-2023] :  (93, 6)\n",
      "prabowo[05-26-2023] :  (100, 6)\n",
      "prabowo[05-27-2023] :  (89, 6)\n",
      "prabowo[05-28-2023] :  (100, 6)\n",
      "prabowo[05-29-2023] :  (100, 6)\n",
      "prabowo[05-30-2023] :  (64, 6)\n",
      "prabowo[05-31-2023] :  (94, 6)\n"
     ]
    }
   ],
   "source": [
    "print('prabowo[05-24-2023] : ',df24.shape)\n",
    "print('prabowo[05-25-2023] : ',df25.shape)\n",
    "print('prabowo[05-26-2023] : ',df26.shape)\n",
    "print('prabowo[05-27-2023] : ',df27.shape)\n",
    "print('prabowo[05-28-2023] : ',df28.shape)\n",
    "print('prabowo[05-29-2023] : ',df29.shape)\n",
    "print('prabowo[05-30-2023] : ',df30.shape)\n",
    "print('prabowo[05-31-2023] : ',df31.shape)"
   ]
  },
  {
   "cell_type": "code",
   "execution_count": 7,
   "id": "92d981fe",
   "metadata": {
    "scrolled": true
   },
   "outputs": [
    {
     "data": {
      "text/plain": [
       "(740, 6)"
      ]
     },
     "execution_count": 7,
     "metadata": {},
     "output_type": "execute_result"
    }
   ],
   "source": [
    "df_concat = pd.concat([df24, df25, df26, df27, df28, df29, df30, df31])\n",
    "df_concat.shape\n",
    "# df_concat"
   ]
  },
  {
   "cell_type": "code",
   "execution_count": 8,
   "id": "95018b4f",
   "metadata": {},
   "outputs": [
    {
     "data": {
      "text/html": [
       "<div>\n",
       "<style scoped>\n",
       "    .dataframe tbody tr th:only-of-type {\n",
       "        vertical-align: middle;\n",
       "    }\n",
       "\n",
       "    .dataframe tbody tr th {\n",
       "        vertical-align: top;\n",
       "    }\n",
       "\n",
       "    .dataframe thead th {\n",
       "        text-align: right;\n",
       "    }\n",
       "</style>\n",
       "<table border=\"1\" class=\"dataframe\">\n",
       "  <thead>\n",
       "    <tr style=\"text-align: right;\">\n",
       "      <th></th>\n",
       "      <th>Unnamed: 0</th>\n",
       "      <th>id</th>\n",
       "      <th>date</th>\n",
       "      <th>text</th>\n",
       "      <th>place</th>\n",
       "      <th>screen_name</th>\n",
       "    </tr>\n",
       "  </thead>\n",
       "  <tbody>\n",
       "    <tr>\n",
       "      <th>0</th>\n",
       "      <td>0</td>\n",
       "      <td>1661196377966387201</td>\n",
       "      <td>2023-05-24 02:24:14</td>\n",
       "      <td>RT @BANGSAygSUJUD: \"Kali ini sudah saatnya @pr...</td>\n",
       "      <td>NaN</td>\n",
       "      <td>florieliciouss</td>\n",
       "    </tr>\n",
       "    <tr>\n",
       "      <th>1</th>\n",
       "      <td>1</td>\n",
       "      <td>1661195956300435458</td>\n",
       "      <td>2023-05-24 02:22:34</td>\n",
       "      <td>4 Respons Kornas, PDIP, hingga Gerindra Usai P...</td>\n",
       "      <td>INDONESIA</td>\n",
       "      <td>liputan6dotcom</td>\n",
       "    </tr>\n",
       "    <tr>\n",
       "      <th>2</th>\n",
       "      <td>2</td>\n",
       "      <td>1661195925774274560</td>\n",
       "      <td>2023-05-24 02:22:26</td>\n",
       "      <td>RT @Paltiwest: Prabowo Subianto: 24,5%\\nGanjar...</td>\n",
       "      <td>NaN</td>\n",
       "      <td>BiBoDah1</td>\n",
       "    </tr>\n",
       "    <tr>\n",
       "      <th>3</th>\n",
       "      <td>3</td>\n",
       "      <td>1661195905796812800</td>\n",
       "      <td>2023-05-24 02:22:22</td>\n",
       "      <td>RT @mingtongue_: Partai besutan Prabowo Subian...</td>\n",
       "      <td>West java</td>\n",
       "      <td>7uventusia</td>\n",
       "    </tr>\n",
       "    <tr>\n",
       "      <th>4</th>\n",
       "      <td>4</td>\n",
       "      <td>1661195584211128320</td>\n",
       "      <td>2023-05-24 02:21:05</td>\n",
       "      <td>4 Respons Kornas, PDIP, hingga Gerindra Usai P...</td>\n",
       "      <td>Alam Bawah Sadar</td>\n",
       "      <td>RSeptianEGeo</td>\n",
       "    </tr>\n",
       "    <tr>\n",
       "      <th>...</th>\n",
       "      <td>...</td>\n",
       "      <td>...</td>\n",
       "      <td>...</td>\n",
       "      <td>...</td>\n",
       "      <td>...</td>\n",
       "      <td>...</td>\n",
       "    </tr>\n",
       "    <tr>\n",
       "      <th>89</th>\n",
       "      <td>89</td>\n",
       "      <td>1663866897795002376</td>\n",
       "      <td>2023-05-31 11:15:56</td>\n",
       "      <td>Ketua Umum Projo, Budi Arie Setiadi, merespons...</td>\n",
       "      <td>NaN</td>\n",
       "      <td>Harumiii_kn</td>\n",
       "    </tr>\n",
       "    <tr>\n",
       "      <th>90</th>\n",
       "      <td>90</td>\n",
       "      <td>1663866893428748289</td>\n",
       "      <td>2023-05-31 11:15:55</td>\n",
       "      <td>Merujuk Kriteria dari Jokowi, Budi Arie Akui A...</td>\n",
       "      <td>NaN</td>\n",
       "      <td>Harumiii_kn</td>\n",
       "    </tr>\n",
       "    <tr>\n",
       "      <th>91</th>\n",
       "      <td>91</td>\n",
       "      <td>1663866602943844352</td>\n",
       "      <td>2023-05-31 11:14:45</td>\n",
       "      <td>RT @Chika_vhivi: Kata Pak Prabowo Subianto Men...</td>\n",
       "      <td>Tamiami, FL</td>\n",
       "      <td>mylien_</td>\n",
       "    </tr>\n",
       "    <tr>\n",
       "      <th>92</th>\n",
       "      <td>92</td>\n",
       "      <td>1663866549734895616</td>\n",
       "      <td>2023-05-31 11:14:33</td>\n",
       "      <td>\"Terakhir di Sumbar, tepatnya di Kabupaten Tan...</td>\n",
       "      <td>NaN</td>\n",
       "      <td>Harumiii_kn</td>\n",
       "    </tr>\n",
       "    <tr>\n",
       "      <th>93</th>\n",
       "      <td>93</td>\n",
       "      <td>1663866547834847232</td>\n",
       "      <td>2023-05-31 11:14:32</td>\n",
       "      <td>Teranyar, komunikasi kedua tokoh itu berlangsu...</td>\n",
       "      <td>NaN</td>\n",
       "      <td>Harumiii_kn</td>\n",
       "    </tr>\n",
       "  </tbody>\n",
       "</table>\n",
       "<p>740 rows × 6 columns</p>\n",
       "</div>"
      ],
      "text/plain": [
       "    Unnamed: 0                   id                 date  \\\n",
       "0            0  1661196377966387201  2023-05-24 02:24:14   \n",
       "1            1  1661195956300435458  2023-05-24 02:22:34   \n",
       "2            2  1661195925774274560  2023-05-24 02:22:26   \n",
       "3            3  1661195905796812800  2023-05-24 02:22:22   \n",
       "4            4  1661195584211128320  2023-05-24 02:21:05   \n",
       "..         ...                  ...                  ...   \n",
       "89          89  1663866897795002376  2023-05-31 11:15:56   \n",
       "90          90  1663866893428748289  2023-05-31 11:15:55   \n",
       "91          91  1663866602943844352  2023-05-31 11:14:45   \n",
       "92          92  1663866549734895616  2023-05-31 11:14:33   \n",
       "93          93  1663866547834847232  2023-05-31 11:14:32   \n",
       "\n",
       "                                                 text             place  \\\n",
       "0   RT @BANGSAygSUJUD: \"Kali ini sudah saatnya @pr...               NaN   \n",
       "1   4 Respons Kornas, PDIP, hingga Gerindra Usai P...         INDONESIA   \n",
       "2   RT @Paltiwest: Prabowo Subianto: 24,5%\\nGanjar...               NaN   \n",
       "3   RT @mingtongue_: Partai besutan Prabowo Subian...         West java   \n",
       "4   4 Respons Kornas, PDIP, hingga Gerindra Usai P...  Alam Bawah Sadar   \n",
       "..                                                ...               ...   \n",
       "89  Ketua Umum Projo, Budi Arie Setiadi, merespons...               NaN   \n",
       "90  Merujuk Kriteria dari Jokowi, Budi Arie Akui A...               NaN   \n",
       "91  RT @Chika_vhivi: Kata Pak Prabowo Subianto Men...       Tamiami, FL   \n",
       "92  \"Terakhir di Sumbar, tepatnya di Kabupaten Tan...               NaN   \n",
       "93  Teranyar, komunikasi kedua tokoh itu berlangsu...               NaN   \n",
       "\n",
       "       screen_name  \n",
       "0   florieliciouss  \n",
       "1   liputan6dotcom  \n",
       "2         BiBoDah1  \n",
       "3       7uventusia  \n",
       "4     RSeptianEGeo  \n",
       "..             ...  \n",
       "89     Harumiii_kn  \n",
       "90     Harumiii_kn  \n",
       "91         mylien_  \n",
       "92     Harumiii_kn  \n",
       "93     Harumiii_kn  \n",
       "\n",
       "[740 rows x 6 columns]"
      ]
     },
     "execution_count": 8,
     "metadata": {},
     "output_type": "execute_result"
    }
   ],
   "source": [
    "df_concat.to_csv('prabowo5.csv')\n",
    "df_concat"
   ]
  },
  {
   "cell_type": "code",
   "execution_count": null,
   "id": "b862556c",
   "metadata": {},
   "outputs": [],
   "source": []
  }
 ],
 "metadata": {
  "kernelspec": {
   "display_name": "Python 3 (ipykernel)",
   "language": "python",
   "name": "python3"
  },
  "language_info": {
   "codemirror_mode": {
    "name": "ipython",
    "version": 3
   },
   "file_extension": ".py",
   "mimetype": "text/x-python",
   "name": "python",
   "nbconvert_exporter": "python",
   "pygments_lexer": "ipython3",
   "version": "3.11.3"
  },
  "varInspector": {
   "cols": {
    "lenName": 16,
    "lenType": 16,
    "lenVar": 40
   },
   "kernels_config": {
    "python": {
     "delete_cmd_postfix": "",
     "delete_cmd_prefix": "del ",
     "library": "var_list.py",
     "varRefreshCmd": "print(var_dic_list())"
    },
    "r": {
     "delete_cmd_postfix": ") ",
     "delete_cmd_prefix": "rm(",
     "library": "var_list.r",
     "varRefreshCmd": "cat(var_dic_list()) "
    }
   },
   "types_to_exclude": [
    "module",
    "function",
    "builtin_function_or_method",
    "instance",
    "_Feature"
   ],
   "window_display": false
  }
 },
 "nbformat": 4,
 "nbformat_minor": 5
}
