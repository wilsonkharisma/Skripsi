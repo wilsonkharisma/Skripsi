{
 "cells": [
  {
   "cell_type": "code",
   "execution_count": 1,
   "id": "e29db257",
   "metadata": {},
   "outputs": [],
   "source": [
    "import pandas as pd"
   ]
  },
  {
   "cell_type": "code",
   "execution_count": 2,
   "id": "4adac8e8",
   "metadata": {},
   "outputs": [],
   "source": [
    "df1 = pd.read_csv('ganjar5.csv')\n",
    "df2 = pd.read_csv('ganjar6.csv')\n",
    "df3 = pd.read_csv('ganjar7.csv')"
   ]
  },
  {
   "cell_type": "code",
   "execution_count": 3,
   "id": "e13e62ea",
   "metadata": {},
   "outputs": [
    {
     "name": "stdout",
     "output_type": "stream",
     "text": [
      "ganjar bulan 5 :  (798, 7)\n",
      "ganjar bulan 6 :  (2683, 7)\n",
      "ganjar bulan 7 :  (2394, 7)\n"
     ]
    }
   ],
   "source": [
    "print('ganjar bulan 5 : ',df1.shape)\n",
    "print('ganjar bulan 6 : ',df2.shape)\n",
    "print('ganjar bulan 7 : ',df3.shape)"
   ]
  },
  {
   "cell_type": "code",
   "execution_count": 4,
   "id": "92d981fe",
   "metadata": {
    "scrolled": true
   },
   "outputs": [
    {
     "data": {
      "text/plain": [
       "(5875, 7)"
      ]
     },
     "execution_count": 4,
     "metadata": {},
     "output_type": "execute_result"
    }
   ],
   "source": [
    "df_concat = pd.concat([df1, df2, df3])\n",
    "df_concat.shape\n",
    "# df_concat"
   ]
  },
  {
   "cell_type": "code",
   "execution_count": 5,
   "id": "240432c8",
   "metadata": {},
   "outputs": [
    {
     "data": {
      "text/plain": [
       "(3913, 7)"
      ]
     },
     "execution_count": 5,
     "metadata": {},
     "output_type": "execute_result"
    }
   ],
   "source": [
    "df_concat.drop_duplicates(subset=['text'], keep='first', inplace=True)\n",
    "df_concat.shape\n",
    "# df_concat"
   ]
  },
  {
   "cell_type": "code",
   "execution_count": 6,
   "id": "95018b4f",
   "metadata": {},
   "outputs": [
    {
     "data": {
      "text/html": [
       "<div>\n",
       "<style scoped>\n",
       "    .dataframe tbody tr th:only-of-type {\n",
       "        vertical-align: middle;\n",
       "    }\n",
       "\n",
       "    .dataframe tbody tr th {\n",
       "        vertical-align: top;\n",
       "    }\n",
       "\n",
       "    .dataframe thead th {\n",
       "        text-align: right;\n",
       "    }\n",
       "</style>\n",
       "<table border=\"1\" class=\"dataframe\">\n",
       "  <thead>\n",
       "    <tr style=\"text-align: right;\">\n",
       "      <th></th>\n",
       "      <th>id</th>\n",
       "      <th>date</th>\n",
       "      <th>text</th>\n",
       "      <th>place</th>\n",
       "      <th>screen_name</th>\n",
       "    </tr>\n",
       "  </thead>\n",
       "  <tbody>\n",
       "    <tr>\n",
       "      <th>0</th>\n",
       "      <td>1661196268318920705</td>\n",
       "      <td>2023-05-24 02:23:48</td>\n",
       "      <td>Untuk memperkuat pondasi kemenangan untuk Ganj...</td>\n",
       "      <td>Indonesia</td>\n",
       "      <td>IDSahabatGanjar</td>\n",
       "    </tr>\n",
       "    <tr>\n",
       "      <th>1</th>\n",
       "      <td>1661196173997395969</td>\n",
       "      <td>2023-05-24 02:23:26</td>\n",
       "      <td>RT @LaingenLisa: \"Semoga Ganjar Pranowo bisa m...</td>\n",
       "      <td>DKI Jakarta, Indonesia</td>\n",
       "      <td>DiniHdianti</td>\n",
       "    </tr>\n",
       "    <tr>\n",
       "      <th>2</th>\n",
       "      <td>1661196167450099714</td>\n",
       "      <td>2023-05-24 02:23:24</td>\n",
       "      <td>RT @ShintaSusan2: Belajar Reformasi Birokrasi ...</td>\n",
       "      <td>Jakarta</td>\n",
       "      <td>ShintaSusan2</td>\n",
       "    </tr>\n",
       "    <tr>\n",
       "      <th>3</th>\n",
       "      <td>1661196146767962116</td>\n",
       "      <td>2023-05-24 02:23:19</td>\n",
       "      <td>Untuk memperkuat pondasi kemenangan untuk Ganj...</td>\n",
       "      <td>NaN</td>\n",
       "      <td>sahabatganjar</td>\n",
       "    </tr>\n",
       "    <tr>\n",
       "      <th>4</th>\n",
       "      <td>1661196142363938817</td>\n",
       "      <td>2023-05-24 02:23:18</td>\n",
       "      <td>Belajar Reformasi Birokrasi bersama Ganjar Pra...</td>\n",
       "      <td>Jakarta</td>\n",
       "      <td>ShintaSusan2</td>\n",
       "    </tr>\n",
       "    <tr>\n",
       "      <th>...</th>\n",
       "      <td>...</td>\n",
       "      <td>...</td>\n",
       "      <td>...</td>\n",
       "      <td>...</td>\n",
       "      <td>...</td>\n",
       "    </tr>\n",
       "    <tr>\n",
       "      <th>2377</th>\n",
       "      <td>1686005227399651328</td>\n",
       "      <td>2023-07-31 13:25:45</td>\n",
       "      <td>RT @lek_brewok: Urusan ama wong edan nanti aja...</td>\n",
       "      <td>Solo ~ Jawa tengah ~ Indonesia</td>\n",
       "      <td>sussssie</td>\n",
       "    </tr>\n",
       "    <tr>\n",
       "      <th>2378</th>\n",
       "      <td>1686005150635425792</td>\n",
       "      <td>2023-07-31 13:25:27</td>\n",
       "      <td>RT @Jumianto_RK: Relawan Gapura Nusantara (RGN...</td>\n",
       "      <td>Indonesia</td>\n",
       "      <td>wil_ws_</td>\n",
       "    </tr>\n",
       "    <tr>\n",
       "      <th>2382</th>\n",
       "      <td>1686005038316134400</td>\n",
       "      <td>2023-07-31 13:25:00</td>\n",
       "      <td>Dukungan jg perlu digalang.\\nItu yg terus dila...</td>\n",
       "      <td>NaN</td>\n",
       "      <td>Jelli_cent</td>\n",
       "    </tr>\n",
       "    <tr>\n",
       "      <th>2384</th>\n",
       "      <td>1686005014840709120</td>\n",
       "      <td>2023-07-31 13:24:54</td>\n",
       "      <td>RT @03__nakula: Gubernur Jateng, Ganjar Pranow...</td>\n",
       "      <td>Semarang Barat, Indonesia</td>\n",
       "      <td>wongkalibanteng</td>\n",
       "    </tr>\n",
       "    <tr>\n",
       "      <th>2389</th>\n",
       "      <td>1686004865850585089</td>\n",
       "      <td>2023-07-31 13:24:19</td>\n",
       "      <td>Ayah Ganjar Pranowo\\nPresiden 2024🇮🇩\\n\\n*Seman...</td>\n",
       "      <td>Makassar, Indonesia</td>\n",
       "      <td>gmc_sulsel</td>\n",
       "    </tr>\n",
       "  </tbody>\n",
       "</table>\n",
       "<p>3913 rows × 5 columns</p>\n",
       "</div>"
      ],
      "text/plain": [
       "                       id                 date  \\\n",
       "0     1661196268318920705  2023-05-24 02:23:48   \n",
       "1     1661196173997395969  2023-05-24 02:23:26   \n",
       "2     1661196167450099714  2023-05-24 02:23:24   \n",
       "3     1661196146767962116  2023-05-24 02:23:19   \n",
       "4     1661196142363938817  2023-05-24 02:23:18   \n",
       "...                   ...                  ...   \n",
       "2377  1686005227399651328  2023-07-31 13:25:45   \n",
       "2378  1686005150635425792  2023-07-31 13:25:27   \n",
       "2382  1686005038316134400  2023-07-31 13:25:00   \n",
       "2384  1686005014840709120  2023-07-31 13:24:54   \n",
       "2389  1686004865850585089  2023-07-31 13:24:19   \n",
       "\n",
       "                                                   text  \\\n",
       "0     Untuk memperkuat pondasi kemenangan untuk Ganj...   \n",
       "1     RT @LaingenLisa: \"Semoga Ganjar Pranowo bisa m...   \n",
       "2     RT @ShintaSusan2: Belajar Reformasi Birokrasi ...   \n",
       "3     Untuk memperkuat pondasi kemenangan untuk Ganj...   \n",
       "4     Belajar Reformasi Birokrasi bersama Ganjar Pra...   \n",
       "...                                                 ...   \n",
       "2377  RT @lek_brewok: Urusan ama wong edan nanti aja...   \n",
       "2378  RT @Jumianto_RK: Relawan Gapura Nusantara (RGN...   \n",
       "2382  Dukungan jg perlu digalang.\\nItu yg terus dila...   \n",
       "2384  RT @03__nakula: Gubernur Jateng, Ganjar Pranow...   \n",
       "2389  Ayah Ganjar Pranowo\\nPresiden 2024🇮🇩\\n\\n*Seman...   \n",
       "\n",
       "                               place      screen_name  \n",
       "0                          Indonesia  IDSahabatGanjar  \n",
       "1             DKI Jakarta, Indonesia      DiniHdianti  \n",
       "2                            Jakarta     ShintaSusan2  \n",
       "3                                NaN    sahabatganjar  \n",
       "4                            Jakarta     ShintaSusan2  \n",
       "...                              ...              ...  \n",
       "2377  Solo ~ Jawa tengah ~ Indonesia         sussssie  \n",
       "2378                       Indonesia          wil_ws_  \n",
       "2382                             NaN       Jelli_cent  \n",
       "2384       Semarang Barat, Indonesia  wongkalibanteng  \n",
       "2389             Makassar, Indonesia       gmc_sulsel  \n",
       "\n",
       "[3913 rows x 5 columns]"
      ]
     },
     "execution_count": 6,
     "metadata": {},
     "output_type": "execute_result"
    }
   ],
   "source": [
    "df_concat = pd.DataFrame(df_concat[['id', 'date', 'text', 'place', 'screen_name']])\n",
    "df_concat.to_csv('ganjar.csv')\n",
    "df_concat"
   ]
  },
  {
   "cell_type": "code",
   "execution_count": null,
   "id": "b862556c",
   "metadata": {},
   "outputs": [],
   "source": []
  }
 ],
 "metadata": {
  "kernelspec": {
   "display_name": "Python 3 (ipykernel)",
   "language": "python",
   "name": "python3"
  },
  "language_info": {
   "codemirror_mode": {
    "name": "ipython",
    "version": 3
   },
   "file_extension": ".py",
   "mimetype": "text/x-python",
   "name": "python",
   "nbconvert_exporter": "python",
   "pygments_lexer": "ipython3",
   "version": "3.11.3"
  },
  "varInspector": {
   "cols": {
    "lenName": 16,
    "lenType": 16,
    "lenVar": 40
   },
   "kernels_config": {
    "python": {
     "delete_cmd_postfix": "",
     "delete_cmd_prefix": "del ",
     "library": "var_list.py",
     "varRefreshCmd": "print(var_dic_list())"
    },
    "r": {
     "delete_cmd_postfix": ") ",
     "delete_cmd_prefix": "rm(",
     "library": "var_list.r",
     "varRefreshCmd": "cat(var_dic_list()) "
    }
   },
   "types_to_exclude": [
    "module",
    "function",
    "builtin_function_or_method",
    "instance",
    "_Feature"
   ],
   "window_display": false
  }
 },
 "nbformat": 4,
 "nbformat_minor": 5
}
