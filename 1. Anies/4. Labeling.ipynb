{
 "cells": [
  {
   "cell_type": "code",
   "execution_count": 1,
   "id": "6585891b",
   "metadata": {},
   "outputs": [],
   "source": [
    "import nltk\n",
    "from nltk.sentiment.vader import SentimentIntensityAnalyzer\n",
    "import json\n",
    "import reprlib\n",
    "import pandas as pd"
   ]
  },
  {
   "cell_type": "code",
   "execution_count": 2,
   "id": "b98739e2",
   "metadata": {},
   "outputs": [
    {
     "data": {
      "text/html": [
       "<div>\n",
       "<style scoped>\n",
       "    .dataframe tbody tr th:only-of-type {\n",
       "        vertical-align: middle;\n",
       "    }\n",
       "\n",
       "    .dataframe tbody tr th {\n",
       "        vertical-align: top;\n",
       "    }\n",
       "\n",
       "    .dataframe thead th {\n",
       "        text-align: right;\n",
       "    }\n",
       "</style>\n",
       "<table border=\"1\" class=\"dataframe\">\n",
       "  <thead>\n",
       "    <tr style=\"text-align: right;\">\n",
       "      <th></th>\n",
       "      <th>text</th>\n",
       "    </tr>\n",
       "  </thead>\n",
       "  <tbody>\n",
       "    <tr>\n",
       "      <th>0</th>\n",
       "      <td>RT @eddy_widodo_165: Alhamdulilah 🤲\\nBacapres ...</td>\n",
       "    </tr>\n",
       "    <tr>\n",
       "      <th>1</th>\n",
       "      <td>RT @renandabachtar: Din Syamsuddin Lebih Senan...</td>\n",
       "    </tr>\n",
       "    <tr>\n",
       "      <th>2</th>\n",
       "      <td>RT @PutraErlangga95: Ingin menyelamatkan Indon...</td>\n",
       "    </tr>\n",
       "    <tr>\n",
       "      <th>3</th>\n",
       "      <td>RT @idtodayco: Kurang Bukti, Relawan Ganjar Pr...</td>\n",
       "    </tr>\n",
       "    <tr>\n",
       "      <th>4</th>\n",
       "      <td>RT @Yurissa_Samosir: Sambutan hangat dari Masy...</td>\n",
       "    </tr>\n",
       "    <tr>\n",
       "      <th>...</th>\n",
       "      <td>...</td>\n",
       "    </tr>\n",
       "    <tr>\n",
       "      <th>2560</th>\n",
       "      <td>RT @rahmaniarbaftim: Untuk bisa menjadi Pemimp...</td>\n",
       "    </tr>\n",
       "    <tr>\n",
       "      <th>2561</th>\n",
       "      <td>RT @YepryR: Terimakasih masyarakat brebes jawa...</td>\n",
       "    </tr>\n",
       "    <tr>\n",
       "      <th>2562</th>\n",
       "      <td>Anies Baswedan tegaskan tidak akan lanjutkan P...</td>\n",
       "    </tr>\n",
       "    <tr>\n",
       "      <th>2563</th>\n",
       "      <td>RT @MissKoral: Petani Brebes Jateng Deklarasi ...</td>\n",
       "    </tr>\n",
       "    <tr>\n",
       "      <th>2564</th>\n",
       "      <td>RT @OposisiCerdas: Partai Masyumi Dukung Anies...</td>\n",
       "    </tr>\n",
       "  </tbody>\n",
       "</table>\n",
       "<p>2565 rows × 1 columns</p>\n",
       "</div>"
      ],
      "text/plain": [
       "                                                   text\n",
       "0     RT @eddy_widodo_165: Alhamdulilah 🤲\\nBacapres ...\n",
       "1     RT @renandabachtar: Din Syamsuddin Lebih Senan...\n",
       "2     RT @PutraErlangga95: Ingin menyelamatkan Indon...\n",
       "3     RT @idtodayco: Kurang Bukti, Relawan Ganjar Pr...\n",
       "4     RT @Yurissa_Samosir: Sambutan hangat dari Masy...\n",
       "...                                                 ...\n",
       "2560  RT @rahmaniarbaftim: Untuk bisa menjadi Pemimp...\n",
       "2561  RT @YepryR: Terimakasih masyarakat brebes jawa...\n",
       "2562  Anies Baswedan tegaskan tidak akan lanjutkan P...\n",
       "2563  RT @MissKoral: Petani Brebes Jateng Deklarasi ...\n",
       "2564  RT @OposisiCerdas: Partai Masyumi Dukung Anies...\n",
       "\n",
       "[2565 rows x 1 columns]"
      ]
     },
     "execution_count": 2,
     "metadata": {},
     "output_type": "execute_result"
    }
   ],
   "source": [
    "def load_data():\n",
    "    data = pd.read_csv('anies_prepro.csv', usecols=['text'],dtype=str)\n",
    "    return data\n",
    "\n",
    "# Kita akan menggunakan kolom teks saja di tahap ini, tanpa kolom label\n",
    "tweets = load_data()\n",
    "tweets"
   ]
  },
  {
   "cell_type": "code",
   "execution_count": 3,
   "id": "1ba79c20",
   "metadata": {},
   "outputs": [
    {
     "name": "stdout",
     "output_type": "stream",
     "text": [
      "{'(barang) bekas': -4, '(olahraga) bokser': -5, '(tua) uzur': -3, 'Anda': -4, ...}\n",
      "{'(hujan) gerimis': 1, '(warna) dadu': 3, 'Ahad': 3, 'Sri paduka': 4, ...}\n",
      "{'abadi': 5, 'absen': -3, 'abu-abu': -1, 'acuh': 4, ...}\n"
     ]
    },
    {
     "name": "stderr",
     "output_type": "stream",
     "text": [
      "[nltk_data] Downloading package vader_lexicon to\n",
      "[nltk_data]     C:\\Users\\wols88\\AppData\\Roaming\\nltk_data...\n",
      "[nltk_data]   Package vader_lexicon is already up-to-date!\n"
     ]
    }
   ],
   "source": [
    "# Memanfaatkan nltk VADER untuk menggunakan leksikon kustom\n",
    "nltk.download('vader_lexicon')\n",
    "sia1A, sia1B, sia2 = SentimentIntensityAnalyzer(), SentimentIntensityAnalyzer(), SentimentIntensityAnalyzer()\n",
    "\n",
    "# membersihkan leksikon VADER default\n",
    "sia1A.lexicon.clear()\n",
    "sia1B.lexicon.clear()\n",
    "sia2.lexicon.clear()\n",
    "\n",
    "# Membaca leksikon InSet\n",
    "# Leksikon InSet lexicon dibagi menjadi dua, yakni polaritas negatif dan polaritas positif;\n",
    "# kita akan menggunakan nilai compound saja untuk memberi label pada suatu kalimat\n",
    "with open('_json_inset-neg.txt') as f:\n",
    "    data1A = f.read()\n",
    "with open('_json_inset-pos.txt') as f:\n",
    "    data1B = f.read()\n",
    "\n",
    "# Membaca leksikon sentiwords_id\n",
    "with open('_json_sentiwords_id.txt') as f:\n",
    "    data2 = f.read()\n",
    "\n",
    "# Mengubah leksikon sebagai dictionary\n",
    "insetNeg = json.loads(data1A)\n",
    "insetPos = json.loads(data1B)\n",
    "senti = json.loads(data2)\n",
    "\n",
    "# Update leksikon VADER yang sudah 'dimodifikasi'\n",
    "sia1A.lexicon.update(insetNeg)\n",
    "sia1B.lexicon.update(insetPos)\n",
    "sia2.lexicon.update(senti)\n",
    "\n",
    "print(reprlib.repr(sia1A.lexicon))\n",
    "print(reprlib.repr(sia1B.lexicon))\n",
    "print(reprlib.repr(sia2.lexicon))"
   ]
  },
  {
   "cell_type": "code",
   "execution_count": 4,
   "id": "2d87f9e9",
   "metadata": {},
   "outputs": [
    {
     "name": "stdout",
     "output_type": "stream",
     "text": [
      "insetNeg:  {'neg': 0.526, 'neu': 0.474, 'pos': 0.0, 'compound': -0.875}\n",
      "insetPos:  {'neg': 0.0, 'neu': 0.333, 'pos': 0.667, 'compound': 0.9517}\n",
      "insetCpdSum: 'compound': 0.07669999999999999\n",
      "senti\t:  {'neg': 0.0, 'neu': 0.733, 'pos': 0.267, 'compound': 0.6124}\n"
     ]
    }
   ],
   "source": [
    "sample = \"kalau kamu sudah sampai sini kamu hebat ayo terus kamu pasti bisa\"\n",
    "print(\"insetNeg: \", sia1A.polarity_scores(sample))\n",
    "print(\"insetPos: \", sia1B.polarity_scores(sample))\n",
    "print(\"insetCpdSum: 'compound':\", sia1A.polarity_scores(sample)[\"compound\"] + sia1B.polarity_scores(sample)[\"compound\"])\n",
    "\n",
    "print(\"senti\\t: \", sia2.polarity_scores(sample))"
   ]
  },
  {
   "cell_type": "code",
   "execution_count": 5,
   "id": "88579dc5",
   "metadata": {},
   "outputs": [],
   "source": [
    "def is_positive_inset(tweet: str) -> bool:\n",
    "    \"\"\"True if tweet has positive compound sentiment, False otherwise.\"\"\"\n",
    "    return sia1A.polarity_scores(tweet)[\"compound\"] + sia1B.polarity_scores(tweet)[\"compound\"] > 0\n",
    "\n",
    "def is_positive_senti(tweet: str) -> bool:\n",
    "    \"\"\"True if tweet has positive compound sentiment, False otherwise.\"\"\"\n",
    "    return sia2.polarity_scores(tweet)[\"compound\"] > 0"
   ]
  },
  {
   "cell_type": "code",
   "execution_count": 6,
   "id": "a416d150",
   "metadata": {},
   "outputs": [],
   "source": [
    "tweets = tweets[\"text\"]\n",
    "# Menulis hasil klasifikasi label untuk setiap kalimat berdasarkan nilai compound dari insetNeg dan insetPos\n",
    "output = \"./anies_inset.csv\"\n",
    "with open(output, 'w') as f:\n",
    "#     f.write('label\\n')\n",
    "    for tweet in tweets:\n",
    "        if is_positive_inset(tweet) == True:\n",
    "            label = \"positif\"\n",
    "        else:\n",
    "            label = \"negatif\"\n",
    "#         print(label)\n",
    "        f.write(str(label+'\\n'))\n",
    "\n",
    "# Menulis hasil klasifikasi label untuk setiap kalimat berdasarkan nilai compound dari sentiwords_id\n",
    "output = \"./anies_senti.csv\"\n",
    "with open(output, 'w') as f:\n",
    "#     f.write('label\\n')\n",
    "    for tweet in tweets:\n",
    "        if is_positive_senti(tweet) == True:\n",
    "            label = \"positif\"\n",
    "        else:\n",
    "            label = \"negatif\"\n",
    "#         print(label)\n",
    "        f.write(str(label+'\\n'))"
   ]
  },
  {
   "cell_type": "code",
   "execution_count": null,
   "id": "4239ac5c",
   "metadata": {},
   "outputs": [],
   "source": []
  }
 ],
 "metadata": {
  "kernelspec": {
   "display_name": "Python 3 (ipykernel)",
   "language": "python",
   "name": "python3"
  },
  "language_info": {
   "codemirror_mode": {
    "name": "ipython",
    "version": 3
   },
   "file_extension": ".py",
   "mimetype": "text/x-python",
   "name": "python",
   "nbconvert_exporter": "python",
   "pygments_lexer": "ipython3",
   "version": "3.11.3"
  },
  "varInspector": {
   "cols": {
    "lenName": 16,
    "lenType": 16,
    "lenVar": 40
   },
   "kernels_config": {
    "python": {
     "delete_cmd_postfix": "",
     "delete_cmd_prefix": "del ",
     "library": "var_list.py",
     "varRefreshCmd": "print(var_dic_list())"
    },
    "r": {
     "delete_cmd_postfix": ") ",
     "delete_cmd_prefix": "rm(",
     "library": "var_list.r",
     "varRefreshCmd": "cat(var_dic_list()) "
    }
   },
   "types_to_exclude": [
    "module",
    "function",
    "builtin_function_or_method",
    "instance",
    "_Feature"
   ],
   "window_display": false
  }
 },
 "nbformat": 4,
 "nbformat_minor": 5
}
