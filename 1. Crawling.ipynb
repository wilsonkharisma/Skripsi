{
 "cells": [
  {
   "cell_type": "code",
   "execution_count": 1,
   "id": "deada165",
   "metadata": {},
   "outputs": [],
   "source": [
    "import tweepy\n",
    "from tweepy.streaming import StreamListener\n",
    "from tweepy import OAuthHandler\n",
    "from tweepy import Stream\n",
    "import pandas as pd"
   ]
  },
  {
   "cell_type": "code",
   "execution_count": 2,
   "id": "5c9fd2ee",
   "metadata": {},
   "outputs": [],
   "source": [
    "#provide your access details below\n",
    "access_token = <access_token>\n",
    "access_token_secret = <access_token_secret>\n",
    "consumer_key = <consumer_key>\n",
    "consumer_secret = <consumer_secret>"
   ]
  },
  {
   "cell_type": "code",
   "execution_count": 3,
   "id": "3cb9a310",
   "metadata": {},
   "outputs": [],
   "source": [
    "# establish a connection\n",
    "auth = tweepy.auth.OAuthHandler(consumer_key, consumer_secret)\n",
    "auth.set_access_token(access_token, access_token_secret)\n",
    "\n",
    "api = tweepy.API(auth)"
   ]
  },
  {
   "cell_type": "code",
   "execution_count": 13,
   "id": "179af3e5",
   "metadata": {},
   "outputs": [
    {
     "name": "stdout",
     "output_type": "stream",
     "text": [
      "Number of tweets:  100\n"
     ]
    }
   ],
   "source": [
    "# fetch recent 10 tweets containing words iphone7, camera\n",
    "\n",
    "fetched_tweets = api.search(q=['ganjar', 'ganjar pranowo',], result_type='recent', lang='id', count=100)\n",
    "# fetched_tweets = api.search(q=['prabowo', 'prabowo subianto',], result_type='recent', lang='id', count=100)\n",
    "# fetched_tweets = api.search(q=['anies', 'anies baswedan',], result_type='recent', lang='id', count=100)\n",
    "# fetched_tweets = api.search(q=['capres2024', 'pilpres2024',], result_type='recent', lang='id', count=100)\n",
    "print(\"Number of tweets: \", len(fetched_tweets))"
   ]
  },
  {
   "cell_type": "code",
   "execution_count": 14,
   "id": "6069a8ab",
   "metadata": {},
   "outputs": [
    {
     "data": {
      "text/html": [
       "<div>\n",
       "<style scoped>\n",
       "    .dataframe tbody tr th:only-of-type {\n",
       "        vertical-align: middle;\n",
       "    }\n",
       "\n",
       "    .dataframe tbody tr th {\n",
       "        vertical-align: top;\n",
       "    }\n",
       "\n",
       "    .dataframe thead th {\n",
       "        text-align: right;\n",
       "    }\n",
       "</style>\n",
       "<table border=\"1\" class=\"dataframe\">\n",
       "  <thead>\n",
       "    <tr style=\"text-align: right;\">\n",
       "      <th></th>\n",
       "      <th>id</th>\n",
       "      <th>date</th>\n",
       "      <th>text</th>\n",
       "      <th>place</th>\n",
       "      <th>screen_name</th>\n",
       "    </tr>\n",
       "  </thead>\n",
       "  <tbody>\n",
       "    <tr>\n",
       "      <th>0</th>\n",
       "      <td>1686009418855383040</td>\n",
       "      <td>2023-07-31 13:42:24</td>\n",
       "      <td>RT @NenkMonica: Jika ada 2 Calon Presiden di P...</td>\n",
       "      <td></td>\n",
       "      <td>ahmad78081</td>\n",
       "    </tr>\n",
       "    <tr>\n",
       "      <th>1</th>\n",
       "      <td>1686009410517102592</td>\n",
       "      <td>2023-07-31 13:42:22</td>\n",
       "      <td>RT @barikade_98: Punya Kompetensi yang Sesuai,...</td>\n",
       "      <td>Jakarta Capital Region</td>\n",
       "      <td>barikade_98</td>\n",
       "    </tr>\n",
       "    <tr>\n",
       "      <th>2</th>\n",
       "      <td>1686009391349223424</td>\n",
       "      <td>2023-07-31 13:42:18</td>\n",
       "      <td>Punya Kompetensi yang Sesuai, Erick Thohir Coc...</td>\n",
       "      <td>Jakarta Capital Region</td>\n",
       "      <td>barikade_98</td>\n",
       "    </tr>\n",
       "    <tr>\n",
       "      <th>3</th>\n",
       "      <td>1686009382117502976</td>\n",
       "      <td>2023-07-31 13:42:15</td>\n",
       "      <td>RT @__RismaWidiono_: Hal tersebut disampaikan ...</td>\n",
       "      <td>Indonesia</td>\n",
       "      <td>wil_ws_</td>\n",
       "    </tr>\n",
       "    <tr>\n",
       "      <th>4</th>\n",
       "      <td>1686009278858244096</td>\n",
       "      <td>2023-07-31 13:41:51</td>\n",
       "      <td>Ganjar Milenial Center Jatim siap menangkan Ga...</td>\n",
       "      <td>Indonesia</td>\n",
       "      <td>adrianadya_</td>\n",
       "    </tr>\n",
       "    <tr>\n",
       "      <th>5</th>\n",
       "      <td>1686009213439377409</td>\n",
       "      <td>2023-07-31 13:41:35</td>\n",
       "      <td>RT @ch_chotimah2: Tidak ada habisnya, baru aja...</td>\n",
       "      <td></td>\n",
       "      <td>devy_casanofa</td>\n",
       "    </tr>\n",
       "    <tr>\n",
       "      <th>6</th>\n",
       "      <td>1686009164412403712</td>\n",
       "      <td>2023-07-31 13:41:23</td>\n",
       "      <td>Ekonomi Jateng meningkat ditangan Ganjar Prano...</td>\n",
       "      <td>Indonesia</td>\n",
       "      <td>adrianadya_</td>\n",
       "    </tr>\n",
       "    <tr>\n",
       "      <th>7</th>\n",
       "      <td>1686009112809844736</td>\n",
       "      <td>2023-07-31 13:41:11</td>\n",
       "      <td>RT @seruanhl: Tukang Becak se Kota Bogor mendu...</td>\n",
       "      <td>🌞</td>\n",
       "      <td>SantorinisSun</td>\n",
       "    </tr>\n",
       "    <tr>\n",
       "      <th>8</th>\n",
       "      <td>1686008970744631296</td>\n",
       "      <td>2023-07-31 13:40:37</td>\n",
       "      <td>@ruhutsitompul Calon kuatnya Ganjar Pranowo</td>\n",
       "      <td></td>\n",
       "      <td>wonosantoso</td>\n",
       "    </tr>\n",
       "    <tr>\n",
       "      <th>9</th>\n",
       "      <td>1686008930936205319</td>\n",
       "      <td>2023-07-31 13:40:28</td>\n",
       "      <td>RT @Miduk17: Ribuan TUKANG BECAK di Bogor mend...</td>\n",
       "      <td></td>\n",
       "      <td>SigitWasito8</td>\n",
       "    </tr>\n",
       "  </tbody>\n",
       "</table>\n",
       "</div>"
      ],
      "text/plain": [
       "                    id                date  \\\n",
       "0  1686009418855383040 2023-07-31 13:42:24   \n",
       "1  1686009410517102592 2023-07-31 13:42:22   \n",
       "2  1686009391349223424 2023-07-31 13:42:18   \n",
       "3  1686009382117502976 2023-07-31 13:42:15   \n",
       "4  1686009278858244096 2023-07-31 13:41:51   \n",
       "5  1686009213439377409 2023-07-31 13:41:35   \n",
       "6  1686009164412403712 2023-07-31 13:41:23   \n",
       "7  1686009112809844736 2023-07-31 13:41:11   \n",
       "8  1686008970744631296 2023-07-31 13:40:37   \n",
       "9  1686008930936205319 2023-07-31 13:40:28   \n",
       "\n",
       "                                                text                   place  \\\n",
       "0  RT @NenkMonica: Jika ada 2 Calon Presiden di P...                           \n",
       "1  RT @barikade_98: Punya Kompetensi yang Sesuai,...  Jakarta Capital Region   \n",
       "2  Punya Kompetensi yang Sesuai, Erick Thohir Coc...  Jakarta Capital Region   \n",
       "3  RT @__RismaWidiono_: Hal tersebut disampaikan ...               Indonesia   \n",
       "4  Ganjar Milenial Center Jatim siap menangkan Ga...               Indonesia   \n",
       "5  RT @ch_chotimah2: Tidak ada habisnya, baru aja...                           \n",
       "6  Ekonomi Jateng meningkat ditangan Ganjar Prano...               Indonesia   \n",
       "7  RT @seruanhl: Tukang Becak se Kota Bogor mendu...                       🌞   \n",
       "8        @ruhutsitompul Calon kuatnya Ganjar Pranowo                           \n",
       "9  RT @Miduk17: Ribuan TUKANG BECAK di Bogor mend...                           \n",
       "\n",
       "     screen_name  \n",
       "0     ahmad78081  \n",
       "1    barikade_98  \n",
       "2    barikade_98  \n",
       "3        wil_ws_  \n",
       "4    adrianadya_  \n",
       "5  devy_casanofa  \n",
       "6    adrianadya_  \n",
       "7  SantorinisSun  \n",
       "8    wonosantoso  \n",
       "9   SigitWasito8  "
      ]
     },
     "execution_count": 14,
     "metadata": {},
     "output_type": "execute_result"
    }
   ],
   "source": [
    "# function to save requaried basic tweets info to a dataframe\n",
    "def populate_tweeet_df(tweets):\n",
    "    #Create an empty dataframe\n",
    "    df = pd.DataFrame()\n",
    "    \n",
    "    df['id'] = list(map(lambda tweet: tweet.id, tweets))\n",
    "    df['date'] = list(map(lambda tweet: tweet.created_at, tweets))\n",
    "    df['text'] = list(map(lambda tweet: tweet.text, tweets))\n",
    "    #df['retweeted'] = list(map(lambda tweet: tweet.retweeted, tweets))\n",
    "    df['place'] = list(map(lambda tweet: tweet.user.location, tweets))\n",
    "    df['screen_name'] = list(map(lambda tweet: tweet.user.screen_name, tweets))\n",
    "    #df['verified_user'] = list(map(lambda tweet: tweet.user.verified, tweets))\n",
    "    #df['followers_count'] = list(map(lambda tweet: tweet.user.followers, tweets))\n",
    "    #df['friends_count'] = list(map(lambda tweet: tweet.user.friends_count, tweets))\n",
    "    \n",
    "    # Highly popular user's tweet could possibly seen by large audience, so\n",
    "    # lets check popularity of user\n",
    "   #df['friendship_coeff'] = list(map(lambda tweet: float(tweet.user.followers_count)/float(tweet.user.friends_count), tweets))\n",
    "    return df\n",
    "df = populate_tweeet_df(fetched_tweets)\n",
    "df.head(10)"
   ]
  },
  {
   "cell_type": "code",
   "execution_count": 15,
   "id": "d60ac515",
   "metadata": {},
   "outputs": [],
   "source": [
    "df.to_csv('ganjar[07-31-2023].csv')\n",
    "# df.to_csv('prabowo[07-31-2023].csv')\n",
    "# df.to_csv('anies[07-31-2023].csv')\n",
    "# df.to_csv('capres[07-31-2023].csv')"
   ]
  },
  {
   "cell_type": "code",
   "execution_count": null,
   "id": "e428a600",
   "metadata": {},
   "outputs": [],
   "source": []
  }
 ],
 "metadata": {
  "kernelspec": {
   "display_name": "Python 3 (ipykernel)",
   "language": "python",
   "name": "python3"
  },
  "language_info": {
   "codemirror_mode": {
    "name": "ipython",
    "version": 3
   },
   "file_extension": ".py",
   "mimetype": "text/x-python",
   "name": "python",
   "nbconvert_exporter": "python",
   "pygments_lexer": "ipython3",
   "version": "3.11.3"
  },
  "varInspector": {
   "cols": {
    "lenName": 16,
    "lenType": 16,
    "lenVar": 40
   },
   "kernels_config": {
    "python": {
     "delete_cmd_postfix": "",
     "delete_cmd_prefix": "del ",
     "library": "var_list.py",
     "varRefreshCmd": "print(var_dic_list())"
    },
    "r": {
     "delete_cmd_postfix": ") ",
     "delete_cmd_prefix": "rm(",
     "library": "var_list.r",
     "varRefreshCmd": "cat(var_dic_list()) "
    }
   },
   "types_to_exclude": [
    "module",
    "function",
    "builtin_function_or_method",
    "instance",
    "_Feature"
   ],
   "window_display": false
  }
 },
 "nbformat": 4,
 "nbformat_minor": 5
}
